{
 "cells": [
  {
   "cell_type": "markdown",
   "id": "b5d5da10",
   "metadata": {},
   "source": [
    "<div class=\"alert alert-box alert-info\">\n",
    "    <h2 style=\"margin:0px\">Importing Libraries</h2>\n",
    " </div>"
   ]
  },
  {
   "cell_type": "code",
   "execution_count": 61,
   "id": "ee51cf14",
   "metadata": {},
   "outputs": [],
   "source": [
    "import numpy as np\n",
    "import warnings\n",
    "from collections import Counter\n",
    "warnings.filterwarnings(\"ignore\")"
   ]
  },
  {
   "cell_type": "markdown",
   "id": "0685d7db",
   "metadata": {},
   "source": [
    "<div class=\"alert alert-box alert-info\">\n",
    "    <h2 style=\"margin:0px\">KNN Classifier</h2>\n",
    " </div>"
   ]
  },
  {
   "cell_type": "code",
   "execution_count": 62,
   "id": "7a3a38c7",
   "metadata": {},
   "outputs": [],
   "source": [
    "class KNN_Classifier:\n",
    "    \n",
    "    def __init__(self,k=3) -> None:\n",
    "        self.k=k\n",
    "\n",
    "    def _euclidean_distance(self,X1,X2):\n",
    "        distance=np.sqrt(np.sum((X1-X2)**2))\n",
    "        return distance\n",
    "    \n",
    "    def fit(self,X,y):\n",
    "        self.X_train=X\n",
    "        self.y_train=y\n",
    "\n",
    "    def predict(self,X):\n",
    "        predict=[self._predict(x) for x in X]\n",
    "        return predict\n",
    "    \n",
    "    def _predict(self,X1):\n",
    "        distance=[self._euclidean_distance(X1,X2) for X2 in self.X_train]\n",
    "        k_idxs=np.argsort(distance)[:self.k]\n",
    "        k_label=self.y_train[k_idxs]\n",
    "        count=Counter(k_label)\n",
    "        return count.most_common()[0][0]\n",
    "\n",
    "\n"
   ]
  },
  {
   "cell_type": "markdown",
   "id": "aed9665e",
   "metadata": {},
   "source": [
    "<div class=\"alert alert-box alert-info\">\n",
    "    <h2 style=\"margin:0px\">KNN Regressor</h2>\n",
    " </div>"
   ]
  },
  {
   "cell_type": "code",
   "execution_count": 63,
   "id": "4d812cbe",
   "metadata": {},
   "outputs": [],
   "source": [
    "class KNN_Regressor:\n",
    "    def __init__(self,k=3) -> None:\n",
    "        self.k=k\n",
    "        \n",
    "    def _ecludean_distance(self,X1,X2):\n",
    "        return np.sqrt(np.sum((X1-X2)**2))\n",
    "    \n",
    "    def _predict(self,X1):\n",
    "        distance=[self._ecludean_distance(X1,X2) for X2 in self.X_train]\n",
    "\n",
    "        k_idxs=np.argsort(distance)[:self.k]\n",
    "        k_labels=self.y_train[k_idxs]\n",
    "        return np.mean(k_labels)\n",
    "    \n",
    "    def predict(self,X):\n",
    "        pred=[self._predict(x) for x in X]\n",
    "        return pred\n",
    "    \n",
    "    def fit(self,X,y):\n",
    "        self.X_train=X\n",
    "        self.y_train=y\n"
   ]
  },
  {
   "cell_type": "markdown",
   "id": "f27beb4a",
   "metadata": {},
   "source": [
    "<div class=\"alert alert-box alert-info\">\n",
    "    <h2 style=\"margin:0px\">Loading Dataset</h2>\n",
    " </div>"
   ]
  },
  {
   "cell_type": "code",
   "execution_count": 64,
   "id": "07e771c8",
   "metadata": {},
   "outputs": [],
   "source": [
    "from sklearn.datasets import load_boston\n",
    "dataset=load_boston()\n",
    "X=dataset['data']\n",
    "Y=dataset['target'] \n",
    "\n",
    "from sklearn.datasets import load_breast_cancer\n",
    "dataset=load_breast_cancer()\n",
    "X1=dataset['data']\n",
    "Y1=dataset['target'] "
   ]
  },
  {
   "cell_type": "markdown",
   "id": "1e1d6e53",
   "metadata": {},
   "source": [
    "<div class=\"alert alert-box alert-info\">\n",
    "    <h2 style=\"margin:0px\">Test Train split</h2>\n",
    " </div>\n",
    " "
   ]
  },
  {
   "cell_type": "code",
   "execution_count": 65,
   "id": "b1db9f71",
   "metadata": {},
   "outputs": [],
   "source": [
    "from sklearn.model_selection import train_test_split\n",
    "X_train,X_test,y_train,y_test=train_test_split(X,Y,test_size=0.1)\n",
    "X1_train,X1_test,y1_train,y1_test=train_test_split(X1,Y1,test_size=0.1)"
   ]
  },
  {
   "cell_type": "markdown",
   "id": "1376caaf",
   "metadata": {},
   "source": [
    "<div class=\"alert alert-box alert-info\">\n",
    "    <h2 style=\"margin:0px\">Applying Standard Scaler for boston dataset</h2>\n",
    " </div>"
   ]
  },
  {
   "cell_type": "code",
   "execution_count": 66,
   "id": "acd5be3e",
   "metadata": {},
   "outputs": [],
   "source": [
    "from sklearn.preprocessing import StandardScaler\n",
    "st=StandardScaler()\n",
    "X_train=st.fit_transform(X_train)\n",
    "X_test=st.transform(X_test)"
   ]
  },
  {
   "cell_type": "markdown",
   "id": "e2f0c0dd",
   "metadata": {},
   "source": [
    "<div class=\"alert alert-box alert-info\">\n",
    "    <h2 style=\"margin:0px\">Implementing KNN Regressor</h2>\n",
    " </div>"
   ]
  },
  {
   "cell_type": "code",
   "execution_count": 67,
   "id": "5385a014",
   "metadata": {},
   "outputs": [
    {
     "name": "stdout",
     "output_type": "stream",
     "text": [
      "for 1 Neighbor , score = 0.8766608811479546\n",
      "for 2 Neighbor , score = 0.8941947365234415\n",
      "for 3 Neighbor , score = 0.8692095501422834\n",
      "for 4 Neighbor , score = 0.8540062085006761\n",
      "for 5 Neighbor , score = 0.8362537383196432\n",
      "for 6 Neighbor , score = 0.8298082672371457\n",
      "for 7 Neighbor , score = 0.8314955568616678\n",
      "for 8 Neighbor , score = 0.8187241171617995\n",
      "for 9 Neighbor , score = 0.7960900433016924\n"
     ]
    }
   ],
   "source": [
    "for i in range(1,10):\n",
    "    KR=KNN_Regressor(i)\n",
    "    KR.fit(X_train,y_train)\n",
    "    y_pred=KR.predict(X_test)\n",
    "    from sklearn.metrics import r2_score\n",
    "    print(f\"for {i} Neighbor , score = {r2_score(y_test,y_pred)}\",)"
   ]
  },
  {
   "cell_type": "markdown",
   "id": "154612ab",
   "metadata": {},
   "source": [
    "<div class=\"alert alert-box alert-info\">\n",
    "    <h2 style=\"margin:0px\">Implementing KNN Classifier</h2>\n",
    " </div>"
   ]
  },
  {
   "cell_type": "code",
   "execution_count": 68,
   "id": "b7cc84bb",
   "metadata": {},
   "outputs": [
    {
     "name": "stdout",
     "output_type": "stream",
     "text": [
      "for 1 Neighbor, score = 0.7738095238095237\n",
      "for 2 Neighbor, score = 0.7738095238095237\n",
      "for 3 Neighbor, score = 0.6984126984126984\n",
      "for 4 Neighbor, score = 0.7738095238095237\n",
      "for 5 Neighbor, score = 0.8492063492063492\n",
      "for 6 Neighbor, score = 0.8492063492063492\n",
      "for 7 Neighbor, score = 0.8492063492063492\n",
      "for 8 Neighbor, score = 0.9246031746031746\n",
      "for 9 Neighbor, score = 0.9246031746031746\n"
     ]
    }
   ],
   "source": [
    "for i in range(1,10):\n",
    "    KR=KNN_Classifier(i)\n",
    "    KR.fit(X1_train,y1_train)\n",
    "    y_pred=KR.predict(X1_test)\n",
    "    from sklearn.metrics import r2_score\n",
    "    print(f\"for {i} Neighbor, score = {r2_score(y1_test,y_pred)}\",)"
   ]
  }
 ],
 "metadata": {
  "kernelspec": {
   "display_name": "Python 3 (ipykernel)",
   "language": "python",
   "name": "python3"
  },
  "language_info": {
   "codemirror_mode": {
    "name": "ipython",
    "version": 3
   },
   "file_extension": ".py",
   "mimetype": "text/x-python",
   "name": "python",
   "nbconvert_exporter": "python",
   "pygments_lexer": "ipython3",
   "version": "3.9.12"
  }
 },
 "nbformat": 4,
 "nbformat_minor": 5
}
