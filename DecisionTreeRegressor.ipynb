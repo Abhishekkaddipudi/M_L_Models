{
 "cells": [
  {
   "cell_type": "markdown",
   "id": "b5d5da10",
   "metadata": {},
   "source": [
    "<div class=\"alert alert-box alert-info\">\n",
    "    <h2 style=\"margin:0px\">Importing Libraries</h2>\n",
    " </div>"
   ]
  },
  {
   "cell_type": "code",
   "execution_count": 4,
   "id": "ee51cf14",
   "metadata": {},
   "outputs": [],
   "source": [
    "import numpy as np\n",
    "import matplotlib.pyplot as plt\n",
    "import warnings\n",
    "warnings.filterwarnings(\"ignore\")"
   ]
  },
  {
   "cell_type": "markdown",
   "id": "0685d7db",
   "metadata": {},
   "source": [
    "<div class=\"alert alert-box alert-info\">\n",
    "    <h2 style=\"margin:0px\">Node Class</h2>\n",
    " </div>"
   ]
  },
  {
   "cell_type": "code",
   "execution_count": 5,
   "id": "7a3a38c7",
   "metadata": {},
   "outputs": [],
   "source": [
    "class Node:\n",
    "    # value is used as keyword-only argument\n",
    "    def __init__(self,features=None,threshold=None,left=None,right=None,*,value=None):\n",
    "        self.features=features\n",
    "        self.threshold=threshold\n",
    "        self.left=left\n",
    "        self.right=right\n",
    "        self.value=value\n",
    "     #simple method if current node is leaf node   \n",
    "    def is_leaf_node(self):\n",
    "        return self.value is not None"
   ]
  },
  {
   "cell_type": "markdown",
   "id": "aed9665e",
   "metadata": {},
   "source": [
    "<div class=\"alert alert-box alert-info\">\n",
    "    <h2 style=\"margin:0px\">Decision Tree</h2>\n",
    " </div>"
   ]
  },
  {
   "cell_type": "code",
   "execution_count": 6,
   "id": "4d812cbe",
   "metadata": {},
   "outputs": [],
   "source": [
    "class DecisionTreeRegressor:\n",
    "    def __init__(self,max_depth=100,min_sample_split=2,n_features=None) -> None:\n",
    "        self.root=None\n",
    "        self.max_depth=max_depth\n",
    "        self.min_sample_split=min_sample_split\n",
    "        self.n_features=n_features\n",
    "        self.d=-1\n",
    "\n",
    "\n",
    "    \n",
    "    def fit(self,X,y):\n",
    "        self.n_features=X.shape[1] if not self.n_features else min(self.n_features,X.shape[1])\n",
    "        self.root=self._Tree(X,y)\n",
    "        \n",
    "\n",
    "                \n",
    "    def _split(self,X_column,threshold):\n",
    "        left_idxs=np.where(X_column<=threshold)[0]\n",
    "        right_idxs=np.where(X_column>threshold)[0]\n",
    "        return left_idxs,right_idxs\n",
    "    \n",
    "    def _Tree(self,X,y,depth=0):\n",
    "        samples,features=X.shape\n",
    "        if (depth>=self.max_depth or samples<self.min_sample_split):\n",
    "            return Node(value=np.mean(y))\n",
    "        feat_idxs=np.random.choice(self.n_features,features)\n",
    "        best_feat,best_threshold=self._best_split(X,y,feat_idxs)\n",
    "        \n",
    "        if best_threshold!=None:\n",
    "            left_idxs,right_idxs=self._split(X[:,best_feat],best_threshold)\n",
    "\n",
    "            left=self._Tree(X[left_idxs],y[left_idxs],depth+1)\n",
    "            right=self._Tree(X[right_idxs],y[right_idxs],depth+1)\n",
    "            if depth>self.d:\n",
    "                self.d=depth\n",
    "            return Node(best_feat,best_threshold,left,right)\n",
    "\n",
    "    def _best_split(self,X,y,feat_idxs):\n",
    "        best_var=-1\n",
    "        split_idx,split_thres=None,None\n",
    "        for feature in feat_idxs:\n",
    "            thresholds=(np.unique(X[:,feature]))\n",
    "      \n",
    "            for threshold in thresholds:\n",
    "                if threshold!=None:\n",
    "                    var=self._variance_reduction(X[:,feature],y,threshold)\n",
    "\n",
    "                    if var >best_var:\n",
    "                        best_var=var\n",
    "                        split_idx,split_thres=feature,threshold\n",
    "        return split_idx,split_thres \n",
    "    \n",
    "    def _variance_reduction(self,X,y,threshold):\n",
    "        parent_var=np.var(y)\n",
    "        left_idxs,right_idxs=self._split(X,threshold)\n",
    "        if len(left_idxs)==0 and len(right_idxs)==0:\n",
    "            return 0\n",
    "        n=len(y)\n",
    "        n_l,n_r=len(y[left_idxs]),len(y[right_idxs])\n",
    "        left_var,right_var=np.var(y[left_idxs]),np.var(y[right_idxs])\n",
    "        child_var=((n_l/n)*left_var)+((n_r/n)*right_var)\n",
    "        return parent_var-child_var\n",
    "        \n",
    "    def _Traverse(self,X,node):\n",
    "        if node.is_leaf_node():\n",
    "            return node.value\n",
    "        if X[node.features]<=node.threshold:\n",
    "            return self._Traverse(X,node.left)\n",
    "        return self._Traverse(X,node.right)\n",
    "        \n",
    "    def predict(self,X):\n",
    "        return np.array([self._Traverse(x,self.root) for x in X])"
   ]
  },
  {
   "cell_type": "markdown",
   "id": "f27beb4a",
   "metadata": {},
   "source": [
    "<div class=\"alert alert-box alert-info\">\n",
    "    <h2 style=\"margin:0px\">Loading Dataset</h2>\n",
    " </div>"
   ]
  },
  {
   "cell_type": "code",
   "execution_count": 7,
   "id": "07e771c8",
   "metadata": {},
   "outputs": [],
   "source": [
    "from sklearn.datasets import load_boston\n",
    "dataset=load_boston()\n",
    "X=dataset['data']\n",
    "Y=dataset['target'] "
   ]
  },
  {
   "cell_type": "markdown",
   "id": "1e1d6e53",
   "metadata": {},
   "source": [
    "<div class=\"alert alert-box alert-info\">\n",
    "    <h2 style=\"margin:0px\">Test Train split</h2>\n",
    " </div>"
   ]
  },
  {
   "cell_type": "code",
   "execution_count": 8,
   "id": "b1db9f71",
   "metadata": {},
   "outputs": [],
   "source": [
    "from sklearn.model_selection import train_test_split\n",
    "X_train,X_test,y_train,y_test=train_test_split(X,Y,test_size=0.3,random_state=1234)"
   ]
  },
  {
   "cell_type": "markdown",
   "id": "6653104a",
   "metadata": {},
   "source": [
    "<div class=\"alert alert-box alert-info\">\n",
    "    <h2 style=\"margin:0px\">Implementing DecisionTreeRegressor</h2>\n",
    " </div>"
   ]
  },
  {
   "cell_type": "code",
   "execution_count": 19,
   "id": "5385a014",
   "metadata": {},
   "outputs": [
    {
     "name": "stdout",
     "output_type": "stream",
     "text": [
      "0.8108095842233468\n"
     ]
    }
   ],
   "source": [
    "DR=DecisionTreeRegressor(max_depth=15)\n",
    "DR.fit(X_train,y_train)\n",
    "y_pred=DR.predict(X_test)\n",
    "from sklearn.metrics import r2_score\n",
    "print(r2_score(y_test,y_pred))"
   ]
  },
  {
   "cell_type": "markdown",
   "id": "154612ab",
   "metadata": {},
   "source": [
    "<div class=\"alert alert-box alert-info\">\n",
    "    <h2 style=\"margin:0px\">Changing max depth</h2>\n",
    " </div>"
   ]
  },
  {
   "cell_type": "code",
   "execution_count": 20,
   "id": "b7cc84bb",
   "metadata": {},
   "outputs": [
    {
     "name": "stdout",
     "output_type": "stream",
     "text": [
      "for depth = 1, score = 0.4806797572081092\n",
      "for depth = 2, score = 0.6573315309479045\n",
      "for depth = 3, score = 0.7202712811364067\n",
      "for depth = 4, score = 0.7447868646014423\n",
      "for depth = 5, score = 0.8109667312098436\n",
      "for depth = 6, score = 0.7475454077623633\n",
      "for depth = 7, score = 0.8236788867544033\n",
      "for depth = 8, score = 0.7654172504616067\n",
      "for depth = 9, score = 0.739414577496501\n"
     ]
    }
   ],
   "source": [
    "for i in range(1,10):\n",
    "    DR=DecisionTreeRegressor(max_depth=i)\n",
    "    DR.fit(X_train,y_train)\n",
    "    y_pred=DR.predict(X_test)\n",
    "    from sklearn.metrics import r2_score\n",
    "    print(f\"for depth = {i}, score = {r2_score(y_test,y_pred)}\",)"
   ]
  }
 ],
 "metadata": {
  "kernelspec": {
   "display_name": "Python 3 (ipykernel)",
   "language": "python",
   "name": "python3"
  },
  "language_info": {
   "codemirror_mode": {
    "name": "ipython",
    "version": 3
   },
   "file_extension": ".py",
   "mimetype": "text/x-python",
   "name": "python",
   "nbconvert_exporter": "python",
   "pygments_lexer": "ipython3",
   "version": "3.9.12"
  }
 },
 "nbformat": 4,
 "nbformat_minor": 5
}
