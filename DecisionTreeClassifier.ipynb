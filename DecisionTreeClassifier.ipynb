{
 "cells": [
  {
   "cell_type": "markdown",
   "id": "b5d5da10",
   "metadata": {},
   "source": [
    "<div class=\"alert alert-box alert-info\">\n",
    "    <h2 style=\"margin:0px\">Importing Libraries</h2>\n",
    " </div>"
   ]
  },
  {
   "cell_type": "code",
   "execution_count": 14,
   "id": "ee51cf14",
   "metadata": {},
   "outputs": [],
   "source": [
    "import numpy as np\n",
    "import matplotlib.pyplot as plt\n",
    "import warnings\n",
    "from collections import Counter \n",
    "warnings.filterwarnings(\"ignore\")"
   ]
  },
  {
   "cell_type": "markdown",
   "id": "0685d7db",
   "metadata": {},
   "source": [
    "<div class=\"alert alert-box alert-info\">\n",
    "    <h2 style=\"margin:0px\">Node Class</h2>\n",
    " </div>"
   ]
  },
  {
   "cell_type": "code",
   "execution_count": 15,
   "id": "7a3a38c7",
   "metadata": {},
   "outputs": [],
   "source": [
    "class Node:\n",
    "    # value is used as keyword-only argument\n",
    "    def __init__(self,features=None,threshold=None,left=None,right=None,*,value=None):\n",
    "        self.features=features\n",
    "        self.threshold=threshold\n",
    "        self.left=left\n",
    "        self.right=right\n",
    "        self.value=value\n",
    "     #simple method if current node is leaf node   \n",
    "    def is_leaf_node(self):\n",
    "        return self.value is not None"
   ]
  },
  {
   "cell_type": "markdown",
   "id": "aed9665e",
   "metadata": {},
   "source": [
    "<div class=\"alert alert-box alert-info\">\n",
    "    <h2 style=\"margin:0px\">Decision Tree</h2>\n",
    " </div>"
   ]
  },
  {
   "cell_type": "code",
   "execution_count": 16,
   "id": "4d812cbe",
   "metadata": {},
   "outputs": [],
   "source": [
    "class DecisionTreeClassifier:\n",
    "    def __init__(self,max_depth=100,min_sample_split=2,n_features=None) -> None:\n",
    "        self.root=None\n",
    "        self.max_depth=max_depth\n",
    "        self.min_sample_split=min_sample_split\n",
    "        self.n_features=n_features\n",
    "\n",
    "    def fit(self,X,y):\n",
    "        #if no. of features is None features from X is selected\n",
    "        self.n_features=X.shape[1] if not self.n_features else min(self.n_features,X.shape[1])\n",
    "        self.root=self._Tree(X,y)\n",
    "        \n",
    "     #recursively builds the tree   \n",
    "    def _Tree(self,X,y,depth=0):\n",
    "        try:\n",
    "            samples,features=X.shape\n",
    "            n_label=len(np.unique(y))\n",
    "            \n",
    "            #stop condition\n",
    "            if (depth >= self.max_depth or n_label ==1 or samples < self.min_sample_split):\n",
    "                return Node(value=self._most_common(y))\n",
    "\n",
    "            #to reduce overfitting the features values are randomly choosen\n",
    "            feat_idxs=np.random.choice(features,self.n_features,replace=False)\n",
    "            #getting the best features and thresholds\n",
    "            best_idxs,best_threshold=self._best_split(X,y,feat_idxs)\n",
    "            #spliting \n",
    "            left_idxs,right_idxs=self._split(X[:,best_idxs],best_threshold)\n",
    "            #recursively build left part of the tree\n",
    "            left=self._Tree(X[left_idxs,:],y[left_idxs],depth+1)\n",
    "            #recursively build right part of the tree\n",
    "            right=self._Tree(X[right_idxs,:],y[right_idxs],depth+1)\n",
    "            #return object of class Node\n",
    "            return Node(best_idxs,best_threshold,left,right)\n",
    "        except Exception as e:\n",
    "            print(\"error\",e)\n",
    "\n",
    "    #greedy way of searching for best feature and threshold\n",
    "    def _best_split(self,X,y,feat_idxs):\n",
    "        try:\n",
    "            best_gain=-1\n",
    "            split_idxs,split_thres=None,None\n",
    "            for feat_idx in feat_idxs:\n",
    "                X_column=X[:,feat_idx]\n",
    "                thresholds=np.unique(X_column)\n",
    "                for threshold in thresholds:\n",
    "                    gain=self._information_gain(X_column,y,threshold)\n",
    "\n",
    "                    if gain>best_gain:\n",
    "                        best_gain=gain\n",
    "                        split_idxs=feat_idx\n",
    "                        split_thres=threshold\n",
    "            return split_idxs,split_thres\n",
    "        except Exception as e:\n",
    "            print(\"error\",e)\n",
    "\n",
    "    #used to find best features and best threshold to split the tree \n",
    "    #Information Gain = Entropy before splitting - Entropy after splitting\n",
    "    def _information_gain(self,X_column,y,threshold):\n",
    "        try:\n",
    "            parent_entrophy=self._entrophy(y)\n",
    "            left_idxs,right_idxs=self._split(X_column,threshold)\n",
    "            #handling empty values\n",
    "            if len(left_idxs)==0 or len(right_idxs)==0:\n",
    "                return 0\n",
    "            n=len(y)\n",
    "            n_l,n_r=len(left_idxs),len(right_idxs)\n",
    "            e_l,e_r=self._entrophy(y[left_idxs]),self._entrophy(y[right_idxs])\n",
    "            child_entrophy=(n_l/n)*e_l +(n_r/n)*e_r\n",
    "            return parent_entrophy-child_entrophy\n",
    "        except Exception as e:\n",
    "            print(\"error\",e)\n",
    "            \n",
    "    #split method to split X w.r.t threshold \n",
    "    #'<=' and '>' used for numerical values  \n",
    "    #\"==\" and \"!=\" for categorical values \n",
    "    def _split(self,X_column,threshold):\n",
    "        left_idxs=np.where(X_column<=threshold)[0]\n",
    "        right_idxs=np.where(X_column>threshold)[0]\n",
    "        return left_idxs,right_idxs\n",
    "    \n",
    "    #entrophy sum of -y * log(y) for all classes of y  \n",
    "    def _entrophy(self,y):\n",
    "        hist=np.bincount(y)\n",
    "        ps=hist/len(y)\n",
    "        return -np.sum(p *np.log(p) for p in ps if p>0)\n",
    "    \n",
    "    #recursively called to find most common value of y in that split\n",
    "    def _most_common(self,y):\n",
    "        count=Counter(y)\n",
    "        return count.most_common(1)[0][0]\n",
    "    \n",
    "    #traverse untill leaf_node is found\n",
    "    def _Traverse(self,X,node):\n",
    "        if node.is_leaf_node():\n",
    "            return node.value\n",
    "        if X[node.features]<=node.threshold:\n",
    "            return self._Traverse(X,node.left)\n",
    "        return self._Traverse(X,node.right)\n",
    "        \n",
    "    def predict(self,X):\n",
    "        return np.array([self._Traverse(x,self.root) for x in X])\n"
   ]
  },
  {
   "cell_type": "markdown",
   "id": "f27beb4a",
   "metadata": {},
   "source": [
    "<div class=\"alert alert-box alert-info\">\n",
    "    <h2 style=\"margin:0px\">Loading Dataset</h2>\n",
    " </div>"
   ]
  },
  {
   "cell_type": "code",
   "execution_count": 28,
   "id": "07e771c8",
   "metadata": {},
   "outputs": [],
   "source": [
    "from sklearn.datasets import load_iris\n",
    "dataset=load_iris()\n",
    "X=dataset['data']\n",
    "Y=dataset['target'] "
   ]
  },
  {
   "cell_type": "markdown",
   "id": "1e1d6e53",
   "metadata": {},
   "source": [
    "<div class=\"alert alert-box alert-info\">\n",
    "    <h2 style=\"margin:0px\">Test Train split</h2>\n",
    " </div>"
   ]
  },
  {
   "cell_type": "code",
   "execution_count": 32,
   "id": "b1db9f71",
   "metadata": {},
   "outputs": [],
   "source": [
    "from sklearn.model_selection import train_test_split\n",
    "X_train,X_test,y_train,y_test=train_test_split(X,Y,test_size=0.3,random_state=1234)"
   ]
  },
  {
   "cell_type": "markdown",
   "id": "6653104a",
   "metadata": {},
   "source": [
    "<div class=\"alert alert-box alert-info\">\n",
    "    <h2 style=\"margin:0px\">Implementing DecisionTreeClassifier</h2>\n",
    " </div>"
   ]
  },
  {
   "cell_type": "code",
   "execution_count": 33,
   "id": "5385a014",
   "metadata": {},
   "outputs": [
    {
     "name": "stdout",
     "output_type": "stream",
     "text": [
      "0.9333333333333333\n"
     ]
    }
   ],
   "source": [
    "DR=DecisionTreeClassifier(max_depth=2)\n",
    "DR.fit(X_train,y_train)\n",
    "y_pred=DR.predict(X_test)\n",
    "from sklearn.metrics import accuracy_score\n",
    "print(accuracy_score(y_test,y_pred))"
   ]
  },
  {
   "cell_type": "markdown",
   "id": "154612ab",
   "metadata": {},
   "source": [
    "<div class=\"alert alert-box alert-info\">\n",
    "    <h2 style=\"margin:0px\">Changing max depth</h2>\n",
    " </div>"
   ]
  },
  {
   "cell_type": "code",
   "execution_count": 35,
   "id": "b7cc84bb",
   "metadata": {},
   "outputs": [
    {
     "name": "stdout",
     "output_type": "stream",
     "text": [
      "for depth = 0, score = 0.9333333333333333\n",
      "for depth = 1, score = 0.9555555555555556\n",
      "for depth = 2, score = 0.9555555555555556\n",
      "for depth = 3, score = 0.9555555555555556\n",
      "for depth = 4, score = 0.9333333333333333\n",
      "for depth = 5, score = 0.9555555555555556\n",
      "for depth = 6, score = 0.9333333333333333\n",
      "for depth = 7, score = 0.9333333333333333\n",
      "for depth = 8, score = 0.9333333333333333\n",
      "for depth = 9, score = 0.9555555555555556\n"
     ]
    }
   ],
   "source": [
    "for i in range(10):\n",
    "    DR=DecisionTreeClassifier(max_depth=2)\n",
    "    DR.fit(X_train,y_train)\n",
    "    y_pred=DR.predict(X_test)\n",
    "    from sklearn.metrics import accuracy_score\n",
    "    print(f\"for depth = {i}, score = {accuracy_score(y_test,y_pred)}\",)"
   ]
  }
 ],
 "metadata": {
  "kernelspec": {
   "display_name": "Python 3 (ipykernel)",
   "language": "python",
   "name": "python3"
  },
  "language_info": {
   "codemirror_mode": {
    "name": "ipython",
    "version": 3
   },
   "file_extension": ".py",
   "mimetype": "text/x-python",
   "name": "python",
   "nbconvert_exporter": "python",
   "pygments_lexer": "ipython3",
   "version": "3.9.12"
  }
 },
 "nbformat": 4,
 "nbformat_minor": 5
}
