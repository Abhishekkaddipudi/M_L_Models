{
 "cells": [
  {
   "cell_type": "markdown",
   "id": "b5d5da10",
   "metadata": {},
   "source": [
    "<div class=\"alert alert-box alert-info\">\n",
    "    <h2 style=\"margin:0px\">Importing Libraries</h2>\n",
    " </div>"
   ]
  },
  {
   "cell_type": "code",
   "execution_count": 11,
   "id": "0afcc159",
   "metadata": {},
   "outputs": [],
   "source": [
    "from sklearn.datasets import load_iris\n",
    "import numpy as np\n",
    "import pickle as pkl\n",
    "from sklearn.preprocessing import StandardScaler\n",
    "from sklearn.metrics import accuracy_score\n",
    "from sklearn.model_selection import train_test_split\n",
    "import warnings\n",
    "warnings.filterwarnings(\"ignore\")"
   ]
  },
  {
   "cell_type": "markdown",
   "id": "0685d7db",
   "metadata": {},
   "source": [
    "<div class=\"alert alert-box alert-info\">\n",
    "    <h2 style=\"margin:0px\">Multi-Class Logistic Regression</h2>\n",
    " </div>"
   ]
  },
  {
   "cell_type": "code",
   "execution_count": 12,
   "id": "856dc299",
   "metadata": {},
   "outputs": [],
   "source": [
    "class MclassLogisticRegression:\n",
    "    def __init__(self,learning_rate=0.01,iteration=1000) -> None:\n",
    "        self.lr=learning_rate\n",
    "        self.itr=iteration\n",
    "        self.sigmoid=lambda x:(1/(1+(np.exp(-x))))\n",
    "\n",
    "    def _initialize(self):\n",
    "        self.nClass_weights=np.zeros((self.nClasses,self.num_features))\n",
    "        self.nClass_bias = np.zeros(self.nClasses) \n",
    "        \n",
    "    def _init_params(self):\n",
    "        self.weights=np.zeros(self.features)\n",
    "        self.bias=0\n",
    "\n",
    "    def _update_params(self,dw,db):\n",
    "        self.weights-=self.lr*dw\n",
    "        self.bias-=self.lr*db\n",
    "\n",
    "    def _calculate_cost(self,y,y_pred):\n",
    "        y_1=(-y*np.log(y_pred))\n",
    "        y_0=((1-y)*np.log(1-y_pred))   \n",
    "        cost=y_1-y_0\n",
    "        return np.sum(cost)/self.samples\n",
    "    \n",
    "    def _get_gradients(self,X,y,y_pred):\n",
    "        error=y_pred-y\n",
    "        dw=(1/self.samples)*np.dot(X.T,error)\n",
    "        db=(1/self.samples)*np.sum(error)\n",
    "        return dw,db\n",
    "    \n",
    "    def _get_prediction(self,X):\n",
    "        linear_pred=np.dot(X,self.weights)+self.bias\n",
    "        return self.sigmoid(linear_pred)\n",
    "    \n",
    "    def _fit(self,X,y):   \n",
    "        self.samples,self.features=X.shape\n",
    "        self._init_params()\n",
    "        for i in range(self.itr):\n",
    "            y_pred=self._get_prediction(X)\n",
    "            dw,db=self._get_gradients(X,y,y_pred)\n",
    "            self._update_params(dw,db)\n",
    "            y_pred=self._get_prediction(X)\n",
    "            cost=self._calculate_cost(y,y_pred)\n",
    "\n",
    "    def fit(self,X,y):\n",
    "        self.nClasses=len(np.unique(y))\n",
    "        self.num_features=X.shape[1]\n",
    "        self._initialize()\n",
    "        for i in range(self.nClasses):\n",
    "            yi=np.where(y==i,1,0)\n",
    "            self._fit(X,yi)\n",
    "            self.nClass_weights[i]=self.weights\n",
    "            self.nClass_bias[i]=self.bias\n",
    "\n",
    "    def predict(self, X):\n",
    "        z=np.dot(X,self.nClass_weights.T)+self.bias\n",
    "        y=self.sigmoid(z)\n",
    "        prediction=np.argmax(y,axis=1)\n",
    "        return prediction\n",
    "\n"
   ]
  },
  {
   "cell_type": "markdown",
   "id": "f27beb4a",
   "metadata": {},
   "source": [
    "<div class=\"alert alert-box alert-info\">\n",
    "    <h2 style=\"margin:0px\">Loading Dataset</h2>\n",
    " </div>"
   ]
  },
  {
   "cell_type": "code",
   "execution_count": 13,
   "id": "7f4daff5",
   "metadata": {},
   "outputs": [],
   "source": [
    "dataset=load_iris()\n",
    "X=dataset['data']\n",
    "Y=dataset['target']"
   ]
  },
  {
   "cell_type": "markdown",
   "id": "1e1d6e53",
   "metadata": {},
   "source": [
    "<div class=\"alert alert-box alert-info\">\n",
    "    <h2 style=\"margin:0px\">Test Train split and Applying Standard scaler</h2>\n",
    " </div>"
   ]
  },
  {
   "cell_type": "code",
   "execution_count": 18,
   "id": "5ec0b413",
   "metadata": {},
   "outputs": [],
   "source": [
    "X_train,X_test,y_train,y_test=train_test_split(X,Y,test_size=0.2)\n",
    "st=StandardScaler()\n",
    "X_train=st.fit_transform(X_train)\n",
    "X_test=st.transform(X_test)"
   ]
  },
  {
   "cell_type": "markdown",
   "id": "6653104a",
   "metadata": {},
   "source": [
    "<div class=\"alert alert-box alert-info\">\n",
    "    <h2 style=\"margin:0px\">Implementing Logistic regression</h2>\n",
    " </div>"
   ]
  },
  {
   "cell_type": "code",
   "execution_count": 19,
   "id": "5b2bf761",
   "metadata": {},
   "outputs": [
    {
     "name": "stdout",
     "output_type": "stream",
     "text": [
      "Accuracy score is: 0.8666666666666667\n"
     ]
    }
   ],
   "source": [
    "cls=MclassLogisticRegression(0.01,1000)\n",
    "cls.fit(X_train,y_train)\n",
    "y_pred=cls.predict(X_test)\n",
    "print(f\"Accuracy score is: {accuracy_score(y_test,y_pred)}\")"
   ]
  },
  {
   "cell_type": "code",
   "execution_count": 20,
   "id": "b56899bb",
   "metadata": {},
   "outputs": [
    {
     "data": {
      "text/plain": [
       "array([1, 0, 0, 0, 2, 1, 0, 1, 0, 1, 0, 2, 0, 2, 1, 2, 2, 0, 0, 2, 2, 2,\n",
       "       0, 2, 0, 1, 2, 0, 2, 1], dtype=int64)"
      ]
     },
     "execution_count": 20,
     "metadata": {},
     "output_type": "execute_result"
    }
   ],
   "source": [
    "y_pred"
   ]
  },
  {
   "cell_type": "code",
   "execution_count": 21,
   "id": "83e9087d",
   "metadata": {},
   "outputs": [
    {
     "data": {
      "text/plain": [
       "array([1, 0, 0, 0, 2, 1, 0, 1, 0, 2, 0, 1, 0, 2, 1, 2, 2, 0, 0, 2, 2, 1,\n",
       "       0, 2, 0, 1, 1, 0, 2, 1])"
      ]
     },
     "execution_count": 21,
     "metadata": {},
     "output_type": "execute_result"
    }
   ],
   "source": [
    "y_test"
   ]
  }
 ],
 "metadata": {
  "kernelspec": {
   "display_name": "Python 3 (ipykernel)",
   "language": "python",
   "name": "python3"
  },
  "language_info": {
   "codemirror_mode": {
    "name": "ipython",
    "version": 3
   },
   "file_extension": ".py",
   "mimetype": "text/x-python",
   "name": "python",
   "nbconvert_exporter": "python",
   "pygments_lexer": "ipython3",
   "version": "3.9.12"
  }
 },
 "nbformat": 4,
 "nbformat_minor": 5
}
